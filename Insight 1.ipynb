{
  "nbformat": 4,
  "nbformat_minor": 0,
  "metadata": {
    "colab": {
      "name": "Copy of isnight1.ipynb",
      "provenance": []
    },
    "kernelspec": {
      "name": "python3",
      "display_name": "Python 3"
    },
    "language_info": {
      "name": "python"
    }
  },
  "cells": [
    {
      "cell_type": "code",
      "metadata": {
        "id": "r64cVjAaRYKR"
      },
      "source": [
        "import numpy as np\n",
        "import pandas as pd\n",
        "import matplotlib.pyplot as plt"
      ],
      "execution_count": null,
      "outputs": []
    },
    {
      "cell_type": "code",
      "metadata": {
        "colab": {
          "base_uri": "https://localhost:8080/",
          "height": 50
        },
        "id": "ABxQkXG4onB3",
        "outputId": "49c8c5d5-23dc-4272-af65-44daf79db0ab"
      },
      "source": [
        "from matplotlib.pyplot import figure\n",
        "\n",
        "figure(figsize=(70, 20), dpi=80)"
      ],
      "execution_count": null,
      "outputs": [
        {
          "output_type": "execute_result",
          "data": {
            "text/plain": [
              "<Figure size 5600x1600 with 0 Axes>"
            ]
          },
          "metadata": {
            "tags": []
          },
          "execution_count": 123
        },
        {
          "output_type": "display_data",
          "data": {
            "text/plain": [
              "<Figure size 5600x1600 with 0 Axes>"
            ]
          },
          "metadata": {
            "tags": []
          }
        }
      ]
    },
    {
      "cell_type": "code",
      "metadata": {
        "colab": {
          "base_uri": "https://localhost:8080/"
        },
        "id": "PawYXHA7SSIW",
        "outputId": "062d8c3c-292a-4e31-b106-c0bd4890bfa6"
      },
      "source": [
        "from google.colab import drive\n",
        "drive.mount('/content/drive/')"
      ],
      "execution_count": null,
      "outputs": [
        {
          "output_type": "stream",
          "text": [
            "Mounted at /content/drive/\n"
          ],
          "name": "stdout"
        }
      ]
    },
    {
      "cell_type": "code",
      "metadata": {
        "colab": {
          "resources": {
            "http://localhost:8080/nbextensions/google.colab/files.js": {
              "data": "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",
              "ok": true,
              "headers": [
                [
                  "content-type",
                  "application/javascript"
                ]
              ],
              "status": 200,
              "status_text": ""
            }
          },
          "base_uri": "https://localhost:8080/",
          "height": 73
        },
        "id": "DICQmWkNSTn4",
        "outputId": "6fcccd2d-cadd-48d2-a3d5-b9c4a601138e"
      },
      "source": [
        "from google.colab import files\n",
        "uploaded = files.upload()\n"
      ],
      "execution_count": null,
      "outputs": [
        {
          "output_type": "display_data",
          "data": {
            "text/html": [
              "\n",
              "     <input type=\"file\" id=\"files-f1deec53-4840-40d8-9e6f-5c6638b4f27c\" name=\"files[]\" multiple disabled\n",
              "        style=\"border:none\" />\n",
              "     <output id=\"result-f1deec53-4840-40d8-9e6f-5c6638b4f27c\">\n",
              "      Upload widget is only available when the cell has been executed in the\n",
              "      current browser session. Please rerun this cell to enable.\n",
              "      </output>\n",
              "      <script src=\"/nbextensions/google.colab/files.js\"></script> "
            ],
            "text/plain": [
              "<IPython.core.display.HTML object>"
            ]
          },
          "metadata": {
            "tags": []
          }
        },
        {
          "output_type": "stream",
          "text": [
            "Saving SALESDETAILS.csv to SALESDETAILS.csv\n"
          ],
          "name": "stdout"
        }
      ]
    },
    {
      "cell_type": "code",
      "metadata": {
        "colab": {
          "base_uri": "https://localhost:8080/"
        },
        "id": "iqbN_FYpSVNM",
        "outputId": "6c291063-9dd1-4172-c1de-0b201f0aead4"
      },
      "source": [
        "df=pd.read_csv('SALESDETAILS.csv')"
      ],
      "execution_count": null,
      "outputs": [
        {
          "output_type": "stream",
          "text": [
            "/usr/local/lib/python3.7/dist-packages/IPython/core/interactiveshell.py:2718: DtypeWarning: Columns (13) have mixed types.Specify dtype option on import or set low_memory=False.\n",
            "  interactivity=interactivity, compiler=compiler, result=result)\n"
          ],
          "name": "stderr"
        }
      ]
    },
    {
      "cell_type": "code",
      "metadata": {
        "colab": {
          "base_uri": "https://localhost:8080/"
        },
        "id": "23i5bt4lkKxM",
        "outputId": "2e95e69a-20f0-4243-9d32-dec6c714158f"
      },
      "source": [
        "sum(n < 0 for n in df['Sales Quantity'].values.flatten())"
      ],
      "execution_count": null,
      "outputs": [
        {
          "output_type": "execute_result",
          "data": {
            "text/plain": [
              "7225"
            ]
          },
          "metadata": {
            "tags": []
          },
          "execution_count": 102
        }
      ]
    },
    {
      "cell_type": "code",
      "metadata": {
        "colab": {
          "base_uri": "https://localhost:8080/",
          "height": 458
        },
        "id": "6-UjKB61Wc7d",
        "outputId": "52037d63-27a9-450b-f26a-f7d827720a20"
      },
      "source": [
        "df.head()"
      ],
      "execution_count": null,
      "outputs": [
        {
          "output_type": "execute_result",
          "data": {
            "text/html": [
              "<div>\n",
              "<style scoped>\n",
              "    .dataframe tbody tr th:only-of-type {\n",
              "        vertical-align: middle;\n",
              "    }\n",
              "\n",
              "    .dataframe tbody tr th {\n",
              "        vertical-align: top;\n",
              "    }\n",
              "\n",
              "    .dataframe thead th {\n",
              "        text-align: right;\n",
              "    }\n",
              "</style>\n",
              "<table border=\"1\" class=\"dataframe\">\n",
              "  <thead>\n",
              "    <tr style=\"text-align: right;\">\n",
              "      <th></th>\n",
              "      <th>Actual Delivery Date</th>\n",
              "      <th>Address Number</th>\n",
              "      <th>CustKey</th>\n",
              "      <th>Backlog Amount</th>\n",
              "      <th>BackOrder Amount</th>\n",
              "      <th>DateKey</th>\n",
              "      <th>Discount Amount</th>\n",
              "      <th>Doc Type</th>\n",
              "      <th>Family Class</th>\n",
              "      <th>Invoice Date</th>\n",
              "      <th>Invoice Number</th>\n",
              "      <th>Item-Branch Key</th>\n",
              "      <th>Item Class</th>\n",
              "      <th>Item Number</th>\n",
              "      <th>Line Desc 1</th>\n",
              "      <th>Line Number</th>\n",
              "      <th>Line Type</th>\n",
              "      <th>List Price</th>\n",
              "      <th>Order Number</th>\n",
              "      <th>Parent Address Number</th>\n",
              "      <th>Payment Terms</th>\n",
              "      <th>Promised Delivery Date</th>\n",
              "      <th>Sales Amount</th>\n",
              "      <th>Sales Amount Based on List Price</th>\n",
              "      <th>Sales Cost Amount</th>\n",
              "      <th>Sales Margin Amount</th>\n",
              "      <th>Sales Price</th>\n",
              "      <th>Sales Quantity</th>\n",
              "      <th>Sales Rep</th>\n",
              "      <th>Sales Unit Cost Price</th>\n",
              "      <th>U/M</th>\n",
              "      <th>Unit Price</th>\n",
              "    </tr>\n",
              "  </thead>\n",
              "  <tbody>\n",
              "    <tr>\n",
              "      <th>0</th>\n",
              "      <td>NaN</td>\n",
              "      <td>10025919</td>\n",
              "      <td>10025919</td>\n",
              "      <td>NaN</td>\n",
              "      <td>NaN</td>\n",
              "      <td>7/21/2008</td>\n",
              "      <td>NaN</td>\n",
              "      <td></td>\n",
              "      <td>T21</td>\n",
              "      <td>NaN</td>\n",
              "      <td>NaN</td>\n",
              "      <td>CR-10799</td>\n",
              "      <td>P01</td>\n",
              "      <td>28401</td>\n",
              "      <td>Ebony Prepared Salad</td>\n",
              "      <td>2000</td>\n",
              "      <td>C</td>\n",
              "      <td>966.44</td>\n",
              "      <td>200286</td>\n",
              "      <td>10025919</td>\n",
              "      <td>NET</td>\n",
              "      <td>7/21/2008</td>\n",
              "      <td>NaN</td>\n",
              "      <td>NaN</td>\n",
              "      <td>NaN</td>\n",
              "      <td>NaN</td>\n",
              "      <td>NaN</td>\n",
              "      <td>NaN</td>\n",
              "      <td>108</td>\n",
              "      <td>NaN</td>\n",
              "      <td>EA</td>\n",
              "      <td>528.8359</td>\n",
              "    </tr>\n",
              "    <tr>\n",
              "      <th>1</th>\n",
              "      <td>NaN</td>\n",
              "      <td>10025919</td>\n",
              "      <td>10025919</td>\n",
              "      <td>NaN</td>\n",
              "      <td>NaN</td>\n",
              "      <td>6/27/2008</td>\n",
              "      <td>NaN</td>\n",
              "      <td></td>\n",
              "      <td>T21</td>\n",
              "      <td>NaN</td>\n",
              "      <td>NaN</td>\n",
              "      <td>CR-10799</td>\n",
              "      <td>P01</td>\n",
              "      <td>28401</td>\n",
              "      <td>Ebony Prepared Salad</td>\n",
              "      <td>23000</td>\n",
              "      <td>SA</td>\n",
              "      <td>966.44</td>\n",
              "      <td>205053</td>\n",
              "      <td>10025919</td>\n",
              "      <td>215</td>\n",
              "      <td>6/27/2008</td>\n",
              "      <td>NaN</td>\n",
              "      <td>NaN</td>\n",
              "      <td>NaN</td>\n",
              "      <td>NaN</td>\n",
              "      <td>NaN</td>\n",
              "      <td>NaN</td>\n",
              "      <td>108</td>\n",
              "      <td>NaN</td>\n",
              "      <td>EA</td>\n",
              "      <td>528.8359</td>\n",
              "    </tr>\n",
              "    <tr>\n",
              "      <th>2</th>\n",
              "      <td>NaN</td>\n",
              "      <td>10025919</td>\n",
              "      <td>10025919</td>\n",
              "      <td>NaN</td>\n",
              "      <td>NaN</td>\n",
              "      <td>5/8/2008</td>\n",
              "      <td>NaN</td>\n",
              "      <td></td>\n",
              "      <td>T21</td>\n",
              "      <td>NaN</td>\n",
              "      <td>NaN</td>\n",
              "      <td>CR-10799</td>\n",
              "      <td>P01</td>\n",
              "      <td>28401</td>\n",
              "      <td>Ebony Prepared Salad</td>\n",
              "      <td>12000</td>\n",
              "      <td>SA</td>\n",
              "      <td>966.44</td>\n",
              "      <td>202518</td>\n",
              "      <td>10025919</td>\n",
              "      <td>2P1</td>\n",
              "      <td>5/8/2008</td>\n",
              "      <td>NaN</td>\n",
              "      <td>NaN</td>\n",
              "      <td>NaN</td>\n",
              "      <td>NaN</td>\n",
              "      <td>NaN</td>\n",
              "      <td>NaN</td>\n",
              "      <td>108</td>\n",
              "      <td>NaN</td>\n",
              "      <td>EA</td>\n",
              "      <td>528.8359</td>\n",
              "    </tr>\n",
              "    <tr>\n",
              "      <th>3</th>\n",
              "      <td>NaN</td>\n",
              "      <td>10025919</td>\n",
              "      <td>10025919</td>\n",
              "      <td>NaN</td>\n",
              "      <td>NaN</td>\n",
              "      <td>5/8/2008</td>\n",
              "      <td>NaN</td>\n",
              "      <td></td>\n",
              "      <td>T21</td>\n",
              "      <td>NaN</td>\n",
              "      <td>NaN</td>\n",
              "      <td>CR-10799</td>\n",
              "      <td>P01</td>\n",
              "      <td>28401</td>\n",
              "      <td>Ebony Prepared Salad</td>\n",
              "      <td>19000</td>\n",
              "      <td>SA</td>\n",
              "      <td>966.44</td>\n",
              "      <td>202147</td>\n",
              "      <td>10025919</td>\n",
              "      <td>2P1</td>\n",
              "      <td>5/8/2008</td>\n",
              "      <td>NaN</td>\n",
              "      <td>NaN</td>\n",
              "      <td>NaN</td>\n",
              "      <td>NaN</td>\n",
              "      <td>NaN</td>\n",
              "      <td>NaN</td>\n",
              "      <td>108</td>\n",
              "      <td>NaN</td>\n",
              "      <td>EA</td>\n",
              "      <td>528.8359</td>\n",
              "    </tr>\n",
              "    <tr>\n",
              "      <th>4</th>\n",
              "      <td>NaN</td>\n",
              "      <td>10025919</td>\n",
              "      <td>10025919</td>\n",
              "      <td>NaN</td>\n",
              "      <td>NaN</td>\n",
              "      <td>6/27/2008</td>\n",
              "      <td>NaN</td>\n",
              "      <td></td>\n",
              "      <td>T21</td>\n",
              "      <td>NaN</td>\n",
              "      <td>NaN</td>\n",
              "      <td>CR-10731</td>\n",
              "      <td>P01</td>\n",
              "      <td>27550</td>\n",
              "      <td>Imagine Popsicles</td>\n",
              "      <td>34000</td>\n",
              "      <td>SA</td>\n",
              "      <td>1084.61</td>\n",
              "      <td>205054</td>\n",
              "      <td>10025919</td>\n",
              "      <td>215</td>\n",
              "      <td>6/27/2008</td>\n",
              "      <td>NaN</td>\n",
              "      <td>NaN</td>\n",
              "      <td>NaN</td>\n",
              "      <td>NaN</td>\n",
              "      <td>NaN</td>\n",
              "      <td>NaN</td>\n",
              "      <td>108</td>\n",
              "      <td>NaN</td>\n",
              "      <td>EA</td>\n",
              "      <td>593.4986</td>\n",
              "    </tr>\n",
              "  </tbody>\n",
              "</table>\n",
              "</div>"
            ],
            "text/plain": [
              "   Actual Delivery Date  Address Number  ...  U/M  Unit Price\n",
              "0                   NaN        10025919  ...   EA    528.8359\n",
              "1                   NaN        10025919  ...   EA    528.8359\n",
              "2                   NaN        10025919  ...   EA    528.8359\n",
              "3                   NaN        10025919  ...   EA    528.8359\n",
              "4                   NaN        10025919  ...   EA    593.4986\n",
              "\n",
              "[5 rows x 32 columns]"
            ]
          },
          "metadata": {
            "tags": []
          },
          "execution_count": 77
        }
      ]
    },
    {
      "cell_type": "code",
      "metadata": {
        "colab": {
          "base_uri": "https://localhost:8080/"
        },
        "id": "6z9u32tFWeo8",
        "outputId": "efbf274a-b1c2-4872-ccf3-58636455c7bf"
      },
      "source": [
        "df.columns"
      ],
      "execution_count": null,
      "outputs": [
        {
          "output_type": "execute_result",
          "data": {
            "text/plain": [
              "Index(['Actual Delivery Date', 'Address Number', 'CustKey', 'Backlog Amount',\n",
              "       'BackOrder Amount', 'DateKey', 'Discount Amount', 'Doc Type',\n",
              "       'Family Class', 'Invoice Date', 'Invoice Number', 'Item-Branch Key',\n",
              "       'Item Class', 'Item Number', 'Line Desc 1', 'Line Number', 'Line Type',\n",
              "       'List Price', 'Order Number', 'Parent Address Number', 'Payment Terms',\n",
              "       'Promised Delivery Date', 'Sales Amount',\n",
              "       'Sales Amount Based on List Price', 'Sales Cost Amount',\n",
              "       'Sales Margin Amount', 'Sales Price', 'Sales Quantity', 'Sales Rep',\n",
              "       'Sales Unit Cost Price', 'U/M', 'Unit Price'],\n",
              "      dtype='object')"
            ]
          },
          "metadata": {
            "tags": []
          },
          "execution_count": 79
        }
      ]
    },
    {
      "cell_type": "code",
      "metadata": {
        "id": "_5RyfL_ThbnP"
      },
      "source": [
        "df['Sales Price']=df['Sales Price'].fillna(0)\n",
        "df['Sales Quantity']=df['Sales Quantity'].fillna(0)\n"
      ],
      "execution_count": null,
      "outputs": []
    },
    {
      "cell_type": "code",
      "metadata": {
        "id": "6YlJXbvEW4f4"
      },
      "source": [
        "revenue= df['Sales Price']*df['Sales Quantity']"
      ],
      "execution_count": null,
      "outputs": []
    },
    {
      "cell_type": "code",
      "metadata": {
        "id": "8i6hFuTrYPy8"
      },
      "source": [
        "df['Revenue']=revenue"
      ],
      "execution_count": null,
      "outputs": []
    },
    {
      "cell_type": "code",
      "metadata": {
        "colab": {
          "base_uri": "https://localhost:8080/",
          "height": 823
        },
        "id": "cWJgrJKFYc9r",
        "outputId": "f8177590-c4f7-40ba-8a45-b5a3b3466ebf"
      },
      "source": [
        "df.head(-500)"
      ],
      "execution_count": null,
      "outputs": [
        {
          "output_type": "execute_result",
          "data": {
            "text/html": [
              "<div>\n",
              "<style scoped>\n",
              "    .dataframe tbody tr th:only-of-type {\n",
              "        vertical-align: middle;\n",
              "    }\n",
              "\n",
              "    .dataframe tbody tr th {\n",
              "        vertical-align: top;\n",
              "    }\n",
              "\n",
              "    .dataframe thead th {\n",
              "        text-align: right;\n",
              "    }\n",
              "</style>\n",
              "<table border=\"1\" class=\"dataframe\">\n",
              "  <thead>\n",
              "    <tr style=\"text-align: right;\">\n",
              "      <th></th>\n",
              "      <th>Actual Delivery Date</th>\n",
              "      <th>Address Number</th>\n",
              "      <th>CustKey</th>\n",
              "      <th>Backlog Amount</th>\n",
              "      <th>BackOrder Amount</th>\n",
              "      <th>DateKey</th>\n",
              "      <th>Discount Amount</th>\n",
              "      <th>Doc Type</th>\n",
              "      <th>Family Class</th>\n",
              "      <th>Invoice Date</th>\n",
              "      <th>Invoice Number</th>\n",
              "      <th>Item-Branch Key</th>\n",
              "      <th>Item Class</th>\n",
              "      <th>Item Number</th>\n",
              "      <th>Line Desc 1</th>\n",
              "      <th>Line Number</th>\n",
              "      <th>Line Type</th>\n",
              "      <th>List Price</th>\n",
              "      <th>Order Number</th>\n",
              "      <th>Parent Address Number</th>\n",
              "      <th>Payment Terms</th>\n",
              "      <th>Promised Delivery Date</th>\n",
              "      <th>Sales Amount</th>\n",
              "      <th>Sales Amount Based on List Price</th>\n",
              "      <th>Sales Cost Amount</th>\n",
              "      <th>Sales Margin Amount</th>\n",
              "      <th>Sales Price</th>\n",
              "      <th>Sales Quantity</th>\n",
              "      <th>Sales Rep</th>\n",
              "      <th>Sales Unit Cost Price</th>\n",
              "      <th>U/M</th>\n",
              "      <th>Unit Price</th>\n",
              "      <th>Revenue</th>\n",
              "    </tr>\n",
              "  </thead>\n",
              "  <tbody>\n",
              "    <tr>\n",
              "      <th>0</th>\n",
              "      <td>NaN</td>\n",
              "      <td>10025919</td>\n",
              "      <td>10025919</td>\n",
              "      <td>NaN</td>\n",
              "      <td>NaN</td>\n",
              "      <td>7/21/2008</td>\n",
              "      <td>NaN</td>\n",
              "      <td></td>\n",
              "      <td>T21</td>\n",
              "      <td>NaN</td>\n",
              "      <td>NaN</td>\n",
              "      <td>CR-10799</td>\n",
              "      <td>P01</td>\n",
              "      <td>28401</td>\n",
              "      <td>Ebony Prepared Salad</td>\n",
              "      <td>2000</td>\n",
              "      <td>C</td>\n",
              "      <td>966.44</td>\n",
              "      <td>200286</td>\n",
              "      <td>10025919</td>\n",
              "      <td>NET</td>\n",
              "      <td>7/21/2008</td>\n",
              "      <td>NaN</td>\n",
              "      <td>NaN</td>\n",
              "      <td>NaN</td>\n",
              "      <td>NaN</td>\n",
              "      <td>0.0000</td>\n",
              "      <td>0.0</td>\n",
              "      <td>108</td>\n",
              "      <td>NaN</td>\n",
              "      <td>EA</td>\n",
              "      <td>528.8359</td>\n",
              "      <td>0.00</td>\n",
              "    </tr>\n",
              "    <tr>\n",
              "      <th>1</th>\n",
              "      <td>NaN</td>\n",
              "      <td>10025919</td>\n",
              "      <td>10025919</td>\n",
              "      <td>NaN</td>\n",
              "      <td>NaN</td>\n",
              "      <td>6/27/2008</td>\n",
              "      <td>NaN</td>\n",
              "      <td></td>\n",
              "      <td>T21</td>\n",
              "      <td>NaN</td>\n",
              "      <td>NaN</td>\n",
              "      <td>CR-10799</td>\n",
              "      <td>P01</td>\n",
              "      <td>28401</td>\n",
              "      <td>Ebony Prepared Salad</td>\n",
              "      <td>23000</td>\n",
              "      <td>SA</td>\n",
              "      <td>966.44</td>\n",
              "      <td>205053</td>\n",
              "      <td>10025919</td>\n",
              "      <td>215</td>\n",
              "      <td>6/27/2008</td>\n",
              "      <td>NaN</td>\n",
              "      <td>NaN</td>\n",
              "      <td>NaN</td>\n",
              "      <td>NaN</td>\n",
              "      <td>0.0000</td>\n",
              "      <td>0.0</td>\n",
              "      <td>108</td>\n",
              "      <td>NaN</td>\n",
              "      <td>EA</td>\n",
              "      <td>528.8359</td>\n",
              "      <td>0.00</td>\n",
              "    </tr>\n",
              "    <tr>\n",
              "      <th>2</th>\n",
              "      <td>NaN</td>\n",
              "      <td>10025919</td>\n",
              "      <td>10025919</td>\n",
              "      <td>NaN</td>\n",
              "      <td>NaN</td>\n",
              "      <td>5/8/2008</td>\n",
              "      <td>NaN</td>\n",
              "      <td></td>\n",
              "      <td>T21</td>\n",
              "      <td>NaN</td>\n",
              "      <td>NaN</td>\n",
              "      <td>CR-10799</td>\n",
              "      <td>P01</td>\n",
              "      <td>28401</td>\n",
              "      <td>Ebony Prepared Salad</td>\n",
              "      <td>12000</td>\n",
              "      <td>SA</td>\n",
              "      <td>966.44</td>\n",
              "      <td>202518</td>\n",
              "      <td>10025919</td>\n",
              "      <td>2P1</td>\n",
              "      <td>5/8/2008</td>\n",
              "      <td>NaN</td>\n",
              "      <td>NaN</td>\n",
              "      <td>NaN</td>\n",
              "      <td>NaN</td>\n",
              "      <td>0.0000</td>\n",
              "      <td>0.0</td>\n",
              "      <td>108</td>\n",
              "      <td>NaN</td>\n",
              "      <td>EA</td>\n",
              "      <td>528.8359</td>\n",
              "      <td>0.00</td>\n",
              "    </tr>\n",
              "    <tr>\n",
              "      <th>3</th>\n",
              "      <td>NaN</td>\n",
              "      <td>10025919</td>\n",
              "      <td>10025919</td>\n",
              "      <td>NaN</td>\n",
              "      <td>NaN</td>\n",
              "      <td>5/8/2008</td>\n",
              "      <td>NaN</td>\n",
              "      <td></td>\n",
              "      <td>T21</td>\n",
              "      <td>NaN</td>\n",
              "      <td>NaN</td>\n",
              "      <td>CR-10799</td>\n",
              "      <td>P01</td>\n",
              "      <td>28401</td>\n",
              "      <td>Ebony Prepared Salad</td>\n",
              "      <td>19000</td>\n",
              "      <td>SA</td>\n",
              "      <td>966.44</td>\n",
              "      <td>202147</td>\n",
              "      <td>10025919</td>\n",
              "      <td>2P1</td>\n",
              "      <td>5/8/2008</td>\n",
              "      <td>NaN</td>\n",
              "      <td>NaN</td>\n",
              "      <td>NaN</td>\n",
              "      <td>NaN</td>\n",
              "      <td>0.0000</td>\n",
              "      <td>0.0</td>\n",
              "      <td>108</td>\n",
              "      <td>NaN</td>\n",
              "      <td>EA</td>\n",
              "      <td>528.8359</td>\n",
              "      <td>0.00</td>\n",
              "    </tr>\n",
              "    <tr>\n",
              "      <th>4</th>\n",
              "      <td>NaN</td>\n",
              "      <td>10025919</td>\n",
              "      <td>10025919</td>\n",
              "      <td>NaN</td>\n",
              "      <td>NaN</td>\n",
              "      <td>6/27/2008</td>\n",
              "      <td>NaN</td>\n",
              "      <td></td>\n",
              "      <td>T21</td>\n",
              "      <td>NaN</td>\n",
              "      <td>NaN</td>\n",
              "      <td>CR-10731</td>\n",
              "      <td>P01</td>\n",
              "      <td>27550</td>\n",
              "      <td>Imagine Popsicles</td>\n",
              "      <td>34000</td>\n",
              "      <td>SA</td>\n",
              "      <td>1084.61</td>\n",
              "      <td>205054</td>\n",
              "      <td>10025919</td>\n",
              "      <td>215</td>\n",
              "      <td>6/27/2008</td>\n",
              "      <td>NaN</td>\n",
              "      <td>NaN</td>\n",
              "      <td>NaN</td>\n",
              "      <td>NaN</td>\n",
              "      <td>0.0000</td>\n",
              "      <td>0.0</td>\n",
              "      <td>108</td>\n",
              "      <td>NaN</td>\n",
              "      <td>EA</td>\n",
              "      <td>593.4986</td>\n",
              "      <td>0.00</td>\n",
              "    </tr>\n",
              "    <tr>\n",
              "      <th>...</th>\n",
              "      <td>...</td>\n",
              "      <td>...</td>\n",
              "      <td>...</td>\n",
              "      <td>...</td>\n",
              "      <td>...</td>\n",
              "      <td>...</td>\n",
              "      <td>...</td>\n",
              "      <td>...</td>\n",
              "      <td>...</td>\n",
              "      <td>...</td>\n",
              "      <td>...</td>\n",
              "      <td>...</td>\n",
              "      <td>...</td>\n",
              "      <td>...</td>\n",
              "      <td>...</td>\n",
              "      <td>...</td>\n",
              "      <td>...</td>\n",
              "      <td>...</td>\n",
              "      <td>...</td>\n",
              "      <td>...</td>\n",
              "      <td>...</td>\n",
              "      <td>...</td>\n",
              "      <td>...</td>\n",
              "      <td>...</td>\n",
              "      <td>...</td>\n",
              "      <td>...</td>\n",
              "      <td>...</td>\n",
              "      <td>...</td>\n",
              "      <td>...</td>\n",
              "      <td>...</td>\n",
              "      <td>...</td>\n",
              "      <td>...</td>\n",
              "      <td>...</td>\n",
              "    </tr>\n",
              "    <tr>\n",
              "      <th>295636</th>\n",
              "      <td>40145.0</td>\n",
              "      <td>10018868</td>\n",
              "      <td>10018868</td>\n",
              "      <td>NaN</td>\n",
              "      <td>NaN</td>\n",
              "      <td>11/28/2009</td>\n",
              "      <td>195.62</td>\n",
              "      <td>RI</td>\n",
              "      <td></td>\n",
              "      <td>11/28/2009</td>\n",
              "      <td>228354.0</td>\n",
              "      <td>CR-10897</td>\n",
              "      <td></td>\n",
              "      <td>39331</td>\n",
              "      <td>Pearl Merlot Wine</td>\n",
              "      <td>13000</td>\n",
              "      <td>SC</td>\n",
              "      <td>217.12</td>\n",
              "      <td>323460</td>\n",
              "      <td>10018868</td>\n",
              "      <td>N60</td>\n",
              "      <td>11/28/2009</td>\n",
              "      <td>238.62</td>\n",
              "      <td>434.24</td>\n",
              "      <td>94.10</td>\n",
              "      <td>144.52</td>\n",
              "      <td>119.3100</td>\n",
              "      <td>2.0</td>\n",
              "      <td>129</td>\n",
              "      <td>47.0500</td>\n",
              "      <td>EA</td>\n",
              "      <td>115.8335</td>\n",
              "      <td>238.62</td>\n",
              "    </tr>\n",
              "    <tr>\n",
              "      <th>295637</th>\n",
              "      <td>40121.0</td>\n",
              "      <td>10013899</td>\n",
              "      <td>10013899</td>\n",
              "      <td>NaN</td>\n",
              "      <td>NaN</td>\n",
              "      <td>11/4/2009</td>\n",
              "      <td>89.81</td>\n",
              "      <td>RI</td>\n",
              "      <td>T17</td>\n",
              "      <td>11/4/2009</td>\n",
              "      <td>218238.0</td>\n",
              "      <td>CR-10492</td>\n",
              "      <td>P01</td>\n",
              "      <td>62524</td>\n",
              "      <td>Tell Tale Lettuce</td>\n",
              "      <td>1000</td>\n",
              "      <td>SA</td>\n",
              "      <td>235.10</td>\n",
              "      <td>314012</td>\n",
              "      <td>10013899</td>\n",
              "      <td>230</td>\n",
              "      <td>11/4/2009</td>\n",
              "      <td>145.29</td>\n",
              "      <td>235.10</td>\n",
              "      <td>75.25</td>\n",
              "      <td>70.04</td>\n",
              "      <td>145.2900</td>\n",
              "      <td>1.0</td>\n",
              "      <td>114</td>\n",
              "      <td>75.2521</td>\n",
              "      <td>EA</td>\n",
              "      <td>141.0600</td>\n",
              "      <td>145.29</td>\n",
              "    </tr>\n",
              "    <tr>\n",
              "      <th>295638</th>\n",
              "      <td>40012.0</td>\n",
              "      <td>10011979</td>\n",
              "      <td>10011979</td>\n",
              "      <td>NaN</td>\n",
              "      <td>NaN</td>\n",
              "      <td>7/18/2009</td>\n",
              "      <td>-16.05</td>\n",
              "      <td>RI</td>\n",
              "      <td></td>\n",
              "      <td>7/18/2009</td>\n",
              "      <td>208567.0</td>\n",
              "      <td>CR-10607</td>\n",
              "      <td></td>\n",
              "      <td>63113</td>\n",
              "      <td>Landslide Columbian Coffee</td>\n",
              "      <td>4001</td>\n",
              "      <td>SC</td>\n",
              "      <td>5.35</td>\n",
              "      <td>300825</td>\n",
              "      <td>10011979</td>\n",
              "      <td>N30</td>\n",
              "      <td>7/17/2009</td>\n",
              "      <td>551.05</td>\n",
              "      <td>535.00</td>\n",
              "      <td>446.34</td>\n",
              "      <td>104.71</td>\n",
              "      <td>5.5105</td>\n",
              "      <td>100.0</td>\n",
              "      <td>145</td>\n",
              "      <td>4.4634</td>\n",
              "      <td>EA</td>\n",
              "      <td>5.3500</td>\n",
              "      <td>551.05</td>\n",
              "    </tr>\n",
              "    <tr>\n",
              "      <th>295639</th>\n",
              "      <td>39830.0</td>\n",
              "      <td>10011979</td>\n",
              "      <td>10011979</td>\n",
              "      <td>NaN</td>\n",
              "      <td>NaN</td>\n",
              "      <td>1/17/2009</td>\n",
              "      <td>-16.05</td>\n",
              "      <td>RI</td>\n",
              "      <td></td>\n",
              "      <td>1/17/2009</td>\n",
              "      <td>220973.0</td>\n",
              "      <td>CR-10607</td>\n",
              "      <td></td>\n",
              "      <td>63113</td>\n",
              "      <td>Landslide Columbian Coffee</td>\n",
              "      <td>4001</td>\n",
              "      <td>SC</td>\n",
              "      <td>5.35</td>\n",
              "      <td>315894</td>\n",
              "      <td>10011979</td>\n",
              "      <td>N30</td>\n",
              "      <td>1/16/2009</td>\n",
              "      <td>551.05</td>\n",
              "      <td>535.00</td>\n",
              "      <td>446.34</td>\n",
              "      <td>104.71</td>\n",
              "      <td>5.5105</td>\n",
              "      <td>100.0</td>\n",
              "      <td>145</td>\n",
              "      <td>4.4634</td>\n",
              "      <td>EA</td>\n",
              "      <td>5.3500</td>\n",
              "      <td>551.05</td>\n",
              "    </tr>\n",
              "    <tr>\n",
              "      <th>295640</th>\n",
              "      <td>39921.0</td>\n",
              "      <td>10011979</td>\n",
              "      <td>10011979</td>\n",
              "      <td>NaN</td>\n",
              "      <td>NaN</td>\n",
              "      <td>4/18/2009</td>\n",
              "      <td>-16.05</td>\n",
              "      <td>RI</td>\n",
              "      <td></td>\n",
              "      <td>4/18/2009</td>\n",
              "      <td>232485.0</td>\n",
              "      <td>CR-10607</td>\n",
              "      <td></td>\n",
              "      <td>63113</td>\n",
              "      <td>Landslide Columbian Coffee</td>\n",
              "      <td>4001</td>\n",
              "      <td>SC</td>\n",
              "      <td>5.35</td>\n",
              "      <td>324800</td>\n",
              "      <td>10011979</td>\n",
              "      <td>N30</td>\n",
              "      <td>4/17/2009</td>\n",
              "      <td>551.05</td>\n",
              "      <td>535.00</td>\n",
              "      <td>446.34</td>\n",
              "      <td>104.71</td>\n",
              "      <td>5.5105</td>\n",
              "      <td>100.0</td>\n",
              "      <td>145</td>\n",
              "      <td>4.4634</td>\n",
              "      <td>EA</td>\n",
              "      <td>5.3500</td>\n",
              "      <td>551.05</td>\n",
              "    </tr>\n",
              "  </tbody>\n",
              "</table>\n",
              "<p>295641 rows × 33 columns</p>\n",
              "</div>"
            ],
            "text/plain": [
              "        Actual Delivery Date  Address Number   CustKey  ...  U/M  Unit Price Revenue\n",
              "0                        NaN        10025919  10025919  ...   EA    528.8359    0.00\n",
              "1                        NaN        10025919  10025919  ...   EA    528.8359    0.00\n",
              "2                        NaN        10025919  10025919  ...   EA    528.8359    0.00\n",
              "3                        NaN        10025919  10025919  ...   EA    528.8359    0.00\n",
              "4                        NaN        10025919  10025919  ...   EA    593.4986    0.00\n",
              "...                      ...             ...       ...  ...  ...         ...     ...\n",
              "295636               40145.0        10018868  10018868  ...   EA    115.8335  238.62\n",
              "295637               40121.0        10013899  10013899  ...   EA    141.0600  145.29\n",
              "295638               40012.0        10011979  10011979  ...   EA      5.3500  551.05\n",
              "295639               39830.0        10011979  10011979  ...   EA      5.3500  551.05\n",
              "295640               39921.0        10011979  10011979  ...   EA      5.3500  551.05\n",
              "\n",
              "[295641 rows x 33 columns]"
            ]
          },
          "metadata": {
            "tags": []
          },
          "execution_count": 83
        }
      ]
    },
    {
      "cell_type": "code",
      "metadata": {
        "id": "eoJ5Vqd6Yemc"
      },
      "source": [
        ""
      ],
      "execution_count": null,
      "outputs": []
    },
    {
      "cell_type": "code",
      "metadata": {
        "colab": {
          "base_uri": "https://localhost:8080/",
          "height": 458
        },
        "id": "GNe1MC7Ba83w",
        "outputId": "96c893dc-2e65-4792-d79b-bb10f81aaa4e"
      },
      "source": [
        "df.head()"
      ],
      "execution_count": null,
      "outputs": [
        {
          "output_type": "execute_result",
          "data": {
            "text/html": [
              "<div>\n",
              "<style scoped>\n",
              "    .dataframe tbody tr th:only-of-type {\n",
              "        vertical-align: middle;\n",
              "    }\n",
              "\n",
              "    .dataframe tbody tr th {\n",
              "        vertical-align: top;\n",
              "    }\n",
              "\n",
              "    .dataframe thead th {\n",
              "        text-align: right;\n",
              "    }\n",
              "</style>\n",
              "<table border=\"1\" class=\"dataframe\">\n",
              "  <thead>\n",
              "    <tr style=\"text-align: right;\">\n",
              "      <th></th>\n",
              "      <th>Actual Delivery Date</th>\n",
              "      <th>Address Number</th>\n",
              "      <th>CustKey</th>\n",
              "      <th>Backlog Amount</th>\n",
              "      <th>BackOrder Amount</th>\n",
              "      <th>DateKey</th>\n",
              "      <th>Discount Amount</th>\n",
              "      <th>Doc Type</th>\n",
              "      <th>Family Class</th>\n",
              "      <th>Invoice Date</th>\n",
              "      <th>Invoice Number</th>\n",
              "      <th>Item-Branch Key</th>\n",
              "      <th>Item Class</th>\n",
              "      <th>Item Number</th>\n",
              "      <th>Line Desc 1</th>\n",
              "      <th>Line Number</th>\n",
              "      <th>Line Type</th>\n",
              "      <th>List Price</th>\n",
              "      <th>Order Number</th>\n",
              "      <th>Parent Address Number</th>\n",
              "      <th>Payment Terms</th>\n",
              "      <th>Promised Delivery Date</th>\n",
              "      <th>Sales Amount</th>\n",
              "      <th>Sales Amount Based on List Price</th>\n",
              "      <th>Sales Cost Amount</th>\n",
              "      <th>Sales Margin Amount</th>\n",
              "      <th>Sales Price</th>\n",
              "      <th>Sales Quantity</th>\n",
              "      <th>Sales Rep</th>\n",
              "      <th>Sales Unit Cost Price</th>\n",
              "      <th>U/M</th>\n",
              "      <th>Unit Price</th>\n",
              "      <th>Revenue</th>\n",
              "    </tr>\n",
              "  </thead>\n",
              "  <tbody>\n",
              "    <tr>\n",
              "      <th>0</th>\n",
              "      <td>NaN</td>\n",
              "      <td>10025919</td>\n",
              "      <td>10025919</td>\n",
              "      <td>NaN</td>\n",
              "      <td>NaN</td>\n",
              "      <td>7/21/2008</td>\n",
              "      <td>NaN</td>\n",
              "      <td></td>\n",
              "      <td>T21</td>\n",
              "      <td>NaN</td>\n",
              "      <td>NaN</td>\n",
              "      <td>CR-10799</td>\n",
              "      <td>P01</td>\n",
              "      <td>28401</td>\n",
              "      <td>Ebony Prepared Salad</td>\n",
              "      <td>2000</td>\n",
              "      <td>C</td>\n",
              "      <td>966.44</td>\n",
              "      <td>200286</td>\n",
              "      <td>10025919</td>\n",
              "      <td>NET</td>\n",
              "      <td>7/21/2008</td>\n",
              "      <td>NaN</td>\n",
              "      <td>NaN</td>\n",
              "      <td>NaN</td>\n",
              "      <td>NaN</td>\n",
              "      <td>0.0</td>\n",
              "      <td>0.0</td>\n",
              "      <td>108</td>\n",
              "      <td>NaN</td>\n",
              "      <td>EA</td>\n",
              "      <td>528.8359</td>\n",
              "      <td>0.0</td>\n",
              "    </tr>\n",
              "    <tr>\n",
              "      <th>1</th>\n",
              "      <td>NaN</td>\n",
              "      <td>10025919</td>\n",
              "      <td>10025919</td>\n",
              "      <td>NaN</td>\n",
              "      <td>NaN</td>\n",
              "      <td>6/27/2008</td>\n",
              "      <td>NaN</td>\n",
              "      <td></td>\n",
              "      <td>T21</td>\n",
              "      <td>NaN</td>\n",
              "      <td>NaN</td>\n",
              "      <td>CR-10799</td>\n",
              "      <td>P01</td>\n",
              "      <td>28401</td>\n",
              "      <td>Ebony Prepared Salad</td>\n",
              "      <td>23000</td>\n",
              "      <td>SA</td>\n",
              "      <td>966.44</td>\n",
              "      <td>205053</td>\n",
              "      <td>10025919</td>\n",
              "      <td>215</td>\n",
              "      <td>6/27/2008</td>\n",
              "      <td>NaN</td>\n",
              "      <td>NaN</td>\n",
              "      <td>NaN</td>\n",
              "      <td>NaN</td>\n",
              "      <td>0.0</td>\n",
              "      <td>0.0</td>\n",
              "      <td>108</td>\n",
              "      <td>NaN</td>\n",
              "      <td>EA</td>\n",
              "      <td>528.8359</td>\n",
              "      <td>0.0</td>\n",
              "    </tr>\n",
              "    <tr>\n",
              "      <th>2</th>\n",
              "      <td>NaN</td>\n",
              "      <td>10025919</td>\n",
              "      <td>10025919</td>\n",
              "      <td>NaN</td>\n",
              "      <td>NaN</td>\n",
              "      <td>5/8/2008</td>\n",
              "      <td>NaN</td>\n",
              "      <td></td>\n",
              "      <td>T21</td>\n",
              "      <td>NaN</td>\n",
              "      <td>NaN</td>\n",
              "      <td>CR-10799</td>\n",
              "      <td>P01</td>\n",
              "      <td>28401</td>\n",
              "      <td>Ebony Prepared Salad</td>\n",
              "      <td>12000</td>\n",
              "      <td>SA</td>\n",
              "      <td>966.44</td>\n",
              "      <td>202518</td>\n",
              "      <td>10025919</td>\n",
              "      <td>2P1</td>\n",
              "      <td>5/8/2008</td>\n",
              "      <td>NaN</td>\n",
              "      <td>NaN</td>\n",
              "      <td>NaN</td>\n",
              "      <td>NaN</td>\n",
              "      <td>0.0</td>\n",
              "      <td>0.0</td>\n",
              "      <td>108</td>\n",
              "      <td>NaN</td>\n",
              "      <td>EA</td>\n",
              "      <td>528.8359</td>\n",
              "      <td>0.0</td>\n",
              "    </tr>\n",
              "    <tr>\n",
              "      <th>3</th>\n",
              "      <td>NaN</td>\n",
              "      <td>10025919</td>\n",
              "      <td>10025919</td>\n",
              "      <td>NaN</td>\n",
              "      <td>NaN</td>\n",
              "      <td>5/8/2008</td>\n",
              "      <td>NaN</td>\n",
              "      <td></td>\n",
              "      <td>T21</td>\n",
              "      <td>NaN</td>\n",
              "      <td>NaN</td>\n",
              "      <td>CR-10799</td>\n",
              "      <td>P01</td>\n",
              "      <td>28401</td>\n",
              "      <td>Ebony Prepared Salad</td>\n",
              "      <td>19000</td>\n",
              "      <td>SA</td>\n",
              "      <td>966.44</td>\n",
              "      <td>202147</td>\n",
              "      <td>10025919</td>\n",
              "      <td>2P1</td>\n",
              "      <td>5/8/2008</td>\n",
              "      <td>NaN</td>\n",
              "      <td>NaN</td>\n",
              "      <td>NaN</td>\n",
              "      <td>NaN</td>\n",
              "      <td>0.0</td>\n",
              "      <td>0.0</td>\n",
              "      <td>108</td>\n",
              "      <td>NaN</td>\n",
              "      <td>EA</td>\n",
              "      <td>528.8359</td>\n",
              "      <td>0.0</td>\n",
              "    </tr>\n",
              "    <tr>\n",
              "      <th>4</th>\n",
              "      <td>NaN</td>\n",
              "      <td>10025919</td>\n",
              "      <td>10025919</td>\n",
              "      <td>NaN</td>\n",
              "      <td>NaN</td>\n",
              "      <td>6/27/2008</td>\n",
              "      <td>NaN</td>\n",
              "      <td></td>\n",
              "      <td>T21</td>\n",
              "      <td>NaN</td>\n",
              "      <td>NaN</td>\n",
              "      <td>CR-10731</td>\n",
              "      <td>P01</td>\n",
              "      <td>27550</td>\n",
              "      <td>Imagine Popsicles</td>\n",
              "      <td>34000</td>\n",
              "      <td>SA</td>\n",
              "      <td>1084.61</td>\n",
              "      <td>205054</td>\n",
              "      <td>10025919</td>\n",
              "      <td>215</td>\n",
              "      <td>6/27/2008</td>\n",
              "      <td>NaN</td>\n",
              "      <td>NaN</td>\n",
              "      <td>NaN</td>\n",
              "      <td>NaN</td>\n",
              "      <td>0.0</td>\n",
              "      <td>0.0</td>\n",
              "      <td>108</td>\n",
              "      <td>NaN</td>\n",
              "      <td>EA</td>\n",
              "      <td>593.4986</td>\n",
              "      <td>0.0</td>\n",
              "    </tr>\n",
              "  </tbody>\n",
              "</table>\n",
              "</div>"
            ],
            "text/plain": [
              "   Actual Delivery Date  Address Number   CustKey  ...  U/M  Unit Price Revenue\n",
              "0                   NaN        10025919  10025919  ...   EA    528.8359     0.0\n",
              "1                   NaN        10025919  10025919  ...   EA    528.8359     0.0\n",
              "2                   NaN        10025919  10025919  ...   EA    528.8359     0.0\n",
              "3                   NaN        10025919  10025919  ...   EA    528.8359     0.0\n",
              "4                   NaN        10025919  10025919  ...   EA    593.4986     0.0\n",
              "\n",
              "[5 rows x 33 columns]"
            ]
          },
          "metadata": {
            "tags": []
          },
          "execution_count": 84
        }
      ]
    },
    {
      "cell_type": "code",
      "metadata": {
        "id": "drJaDHEsb_F6"
      },
      "source": [
        ""
      ],
      "execution_count": null,
      "outputs": []
    },
    {
      "cell_type": "code",
      "metadata": {
        "id": "-3jcdxMvcOkH"
      },
      "source": [
        "grouped_df = df.groupby(['Line Desc 1'])"
      ],
      "execution_count": null,
      "outputs": []
    },
    {
      "cell_type": "code",
      "metadata": {
        "id": "I--Y7P_PcyVR"
      },
      "source": [
        "grouped_and_summed = grouped_df.sum()"
      ],
      "execution_count": null,
      "outputs": []
    },
    {
      "cell_type": "code",
      "metadata": {
        "id": "MptgU0UJc3kl"
      },
      "source": [
        "grouped_and_summed = grouped_and_summed.reset_index()"
      ],
      "execution_count": null,
      "outputs": []
    },
    {
      "cell_type": "code",
      "metadata": {
        "colab": {
          "base_uri": "https://localhost:8080/"
        },
        "id": "rWOsD1jDc6Gx",
        "outputId": "0e2a51e4-ed11-4d65-c63b-bdc61e469f9c"
      },
      "source": [
        "print(grouped_and_summed)"
      ],
      "execution_count": null,
      "outputs": [
        {
          "output_type": "stream",
          "text": [
            "                     Line Desc 1  Actual Delivery Date  ...  Unit Price    Revenue\n",
            "0          American Beef Bologna            10221194.0  ...  10831.3541   16857.17\n",
            "1      American Chicken Hot Dogs            11373975.0  ...  24479.5674   37239.73\n",
            "2             American Cole Slaw            38425518.0  ...   4924.2415    7189.98\n",
            "3           American Corned Beef             8551194.0  ...  30650.1666  491469.77\n",
            "4    American Foot-Long Hot Dogs             5443912.0  ...   5223.5460    6404.53\n",
            "..                           ...                   ...  ...         ...        ...\n",
            "822         Washington Diet Cola            26980789.0  ...   3209.6773   30713.82\n",
            "823         Washington Diet Soda             8469937.0  ...  53706.4749  460676.08\n",
            "824       Washington Mango Drink            12483588.0  ...  76142.5938  296032.18\n",
            "825      Washington Orange Juice            18380529.0  ...   1903.1136  108952.40\n",
            "826  Washington Strawberry Drink             2701168.0  ...  10129.3236   92845.75\n",
            "\n",
            "[827 rows x 22 columns]\n"
          ],
          "name": "stdout"
        }
      ]
    },
    {
      "cell_type": "code",
      "metadata": {
        "id": "dNFgz8dXc9wE"
      },
      "source": [
        "df_final=grouped_and_summed.filter(['Line Desc 1','Revenue'], axis=1)\n"
      ],
      "execution_count": null,
      "outputs": []
    },
    {
      "cell_type": "code",
      "metadata": {
        "colab": {
          "base_uri": "https://localhost:8080/",
          "height": 417
        },
        "id": "-9ziRq7TdZ6T",
        "outputId": "2e6ba40d-3d26-4394-dbb7-a7b1344b8148"
      },
      "source": [
        "df_final"
      ],
      "execution_count": null,
      "outputs": [
        {
          "output_type": "execute_result",
          "data": {
            "text/html": [
              "<div>\n",
              "<style scoped>\n",
              "    .dataframe tbody tr th:only-of-type {\n",
              "        vertical-align: middle;\n",
              "    }\n",
              "\n",
              "    .dataframe tbody tr th {\n",
              "        vertical-align: top;\n",
              "    }\n",
              "\n",
              "    .dataframe thead th {\n",
              "        text-align: right;\n",
              "    }\n",
              "</style>\n",
              "<table border=\"1\" class=\"dataframe\">\n",
              "  <thead>\n",
              "    <tr style=\"text-align: right;\">\n",
              "      <th></th>\n",
              "      <th>Line Desc 1</th>\n",
              "      <th>Revenue</th>\n",
              "    </tr>\n",
              "  </thead>\n",
              "  <tbody>\n",
              "    <tr>\n",
              "      <th>0</th>\n",
              "      <td>American Beef Bologna</td>\n",
              "      <td>16857.17</td>\n",
              "    </tr>\n",
              "    <tr>\n",
              "      <th>1</th>\n",
              "      <td>American Chicken Hot Dogs</td>\n",
              "      <td>37239.73</td>\n",
              "    </tr>\n",
              "    <tr>\n",
              "      <th>2</th>\n",
              "      <td>American Cole Slaw</td>\n",
              "      <td>7189.98</td>\n",
              "    </tr>\n",
              "    <tr>\n",
              "      <th>3</th>\n",
              "      <td>American Corned Beef</td>\n",
              "      <td>491469.77</td>\n",
              "    </tr>\n",
              "    <tr>\n",
              "      <th>4</th>\n",
              "      <td>American Foot-Long Hot Dogs</td>\n",
              "      <td>6404.53</td>\n",
              "    </tr>\n",
              "    <tr>\n",
              "      <th>...</th>\n",
              "      <td>...</td>\n",
              "      <td>...</td>\n",
              "    </tr>\n",
              "    <tr>\n",
              "      <th>822</th>\n",
              "      <td>Washington Diet Cola</td>\n",
              "      <td>30713.82</td>\n",
              "    </tr>\n",
              "    <tr>\n",
              "      <th>823</th>\n",
              "      <td>Washington Diet Soda</td>\n",
              "      <td>460676.08</td>\n",
              "    </tr>\n",
              "    <tr>\n",
              "      <th>824</th>\n",
              "      <td>Washington Mango Drink</td>\n",
              "      <td>296032.18</td>\n",
              "    </tr>\n",
              "    <tr>\n",
              "      <th>825</th>\n",
              "      <td>Washington Orange Juice</td>\n",
              "      <td>108952.40</td>\n",
              "    </tr>\n",
              "    <tr>\n",
              "      <th>826</th>\n",
              "      <td>Washington Strawberry Drink</td>\n",
              "      <td>92845.75</td>\n",
              "    </tr>\n",
              "  </tbody>\n",
              "</table>\n",
              "<p>827 rows × 2 columns</p>\n",
              "</div>"
            ],
            "text/plain": [
              "                     Line Desc 1    Revenue\n",
              "0          American Beef Bologna   16857.17\n",
              "1      American Chicken Hot Dogs   37239.73\n",
              "2             American Cole Slaw    7189.98\n",
              "3           American Corned Beef  491469.77\n",
              "4    American Foot-Long Hot Dogs    6404.53\n",
              "..                           ...        ...\n",
              "822         Washington Diet Cola   30713.82\n",
              "823         Washington Diet Soda  460676.08\n",
              "824       Washington Mango Drink  296032.18\n",
              "825      Washington Orange Juice  108952.40\n",
              "826  Washington Strawberry Drink   92845.75\n",
              "\n",
              "[827 rows x 2 columns]"
            ]
          },
          "metadata": {
            "tags": []
          },
          "execution_count": 90
        }
      ]
    },
    {
      "cell_type": "code",
      "metadata": {
        "id": "YFmeIgL8eGO3"
      },
      "source": [
        "df_final.to_csv('revenuebyP.csv')"
      ],
      "execution_count": null,
      "outputs": []
    },
    {
      "cell_type": "code",
      "metadata": {
        "id": "I0cAc2bbei8Q"
      },
      "source": [
        "df_final.sort_values('Revenue',ascending=False, inplace=True)"
      ],
      "execution_count": null,
      "outputs": []
    },
    {
      "cell_type": "code",
      "metadata": {
        "id": "sN4_CEwcfXr7"
      },
      "source": [
        "indexNames = df_final[ df_final['Revenue'] <0].index\n",
        "df_final.drop(indexNames , inplace=True)"
      ],
      "execution_count": null,
      "outputs": []
    },
    {
      "cell_type": "code",
      "metadata": {
        "colab": {
          "base_uri": "https://localhost:8080/",
          "height": 203
        },
        "id": "2lxhI6MqlUtb",
        "outputId": "af8d887c-841c-4aed-ff1c-b3e5f415d338"
      },
      "source": [
        "df_final.tail()"
      ],
      "execution_count": null,
      "outputs": [
        {
          "output_type": "execute_result",
          "data": {
            "text/html": [
              "<div>\n",
              "<style scoped>\n",
              "    .dataframe tbody tr th:only-of-type {\n",
              "        vertical-align: middle;\n",
              "    }\n",
              "\n",
              "    .dataframe tbody tr th {\n",
              "        vertical-align: top;\n",
              "    }\n",
              "\n",
              "    .dataframe thead th {\n",
              "        text-align: right;\n",
              "    }\n",
              "</style>\n",
              "<table border=\"1\" class=\"dataframe\">\n",
              "  <thead>\n",
              "    <tr style=\"text-align: right;\">\n",
              "      <th></th>\n",
              "      <th>Line Desc 1</th>\n",
              "      <th>Revenue</th>\n",
              "    </tr>\n",
              "  </thead>\n",
              "  <tbody>\n",
              "    <tr>\n",
              "      <th>607</th>\n",
              "      <td>Medalist Manicotti</td>\n",
              "      <td>76.57</td>\n",
              "    </tr>\n",
              "    <tr>\n",
              "      <th>814</th>\n",
              "      <td>Walrus Merlot Wine</td>\n",
              "      <td>69.32</td>\n",
              "    </tr>\n",
              "    <tr>\n",
              "      <th>448</th>\n",
              "      <td>Gorilla Large Curd Cottage Cheese</td>\n",
              "      <td>11.49</td>\n",
              "    </tr>\n",
              "    <tr>\n",
              "      <th>775</th>\n",
              "      <td>Tell Tale Squash</td>\n",
              "      <td>0.00</td>\n",
              "    </tr>\n",
              "    <tr>\n",
              "      <th>309</th>\n",
              "      <td>Ebony Summer Squash</td>\n",
              "      <td>0.00</td>\n",
              "    </tr>\n",
              "  </tbody>\n",
              "</table>\n",
              "</div>"
            ],
            "text/plain": [
              "                           Line Desc 1  Revenue\n",
              "607                 Medalist Manicotti    76.57\n",
              "814                 Walrus Merlot Wine    69.32\n",
              "448  Gorilla Large Curd Cottage Cheese    11.49\n",
              "775                   Tell Tale Squash     0.00\n",
              "309                Ebony Summer Squash     0.00"
            ]
          },
          "metadata": {
            "tags": []
          },
          "execution_count": 106
        }
      ]
    },
    {
      "cell_type": "code",
      "metadata": {
        "id": "5k3MaMCSjwLw"
      },
      "source": [
        "dftop5=df_final.head().copy()"
      ],
      "execution_count": null,
      "outputs": []
    },
    {
      "cell_type": "code",
      "metadata": {
        "colab": {
          "base_uri": "https://localhost:8080/",
          "height": 203
        },
        "id": "a4zGyBwWmPIo",
        "outputId": "db22a754-4e87-4b6f-c941-03a707426c81"
      },
      "source": [
        "dftop5"
      ],
      "execution_count": null,
      "outputs": [
        {
          "output_type": "execute_result",
          "data": {
            "text/html": [
              "<div>\n",
              "<style scoped>\n",
              "    .dataframe tbody tr th:only-of-type {\n",
              "        vertical-align: middle;\n",
              "    }\n",
              "\n",
              "    .dataframe tbody tr th {\n",
              "        vertical-align: top;\n",
              "    }\n",
              "\n",
              "    .dataframe thead th {\n",
              "        text-align: right;\n",
              "    }\n",
              "</style>\n",
              "<table border=\"1\" class=\"dataframe\">\n",
              "  <thead>\n",
              "    <tr style=\"text-align: right;\">\n",
              "      <th></th>\n",
              "      <th>Line Desc 1</th>\n",
              "      <th>Revenue</th>\n",
              "    </tr>\n",
              "  </thead>\n",
              "  <tbody>\n",
              "    <tr>\n",
              "      <th>106</th>\n",
              "      <td>Better Large Canned Shrimp</td>\n",
              "      <td>19986736.62</td>\n",
              "    </tr>\n",
              "    <tr>\n",
              "      <th>479</th>\n",
              "      <td>High Top Dried Mushrooms</td>\n",
              "      <td>17915562.97</td>\n",
              "    </tr>\n",
              "    <tr>\n",
              "      <th>690</th>\n",
              "      <td>Red Spade Pimento Loaf</td>\n",
              "      <td>7702664.11</td>\n",
              "    </tr>\n",
              "    <tr>\n",
              "      <th>95</th>\n",
              "      <td>Better Canned Tuna in Oil</td>\n",
              "      <td>7474155.20</td>\n",
              "    </tr>\n",
              "    <tr>\n",
              "      <th>308</th>\n",
              "      <td>Ebony Squash</td>\n",
              "      <td>7362096.29</td>\n",
              "    </tr>\n",
              "  </tbody>\n",
              "</table>\n",
              "</div>"
            ],
            "text/plain": [
              "                    Line Desc 1      Revenue\n",
              "106  Better Large Canned Shrimp  19986736.62\n",
              "479    High Top Dried Mushrooms  17915562.97\n",
              "690      Red Spade Pimento Loaf   7702664.11\n",
              "95    Better Canned Tuna in Oil   7474155.20\n",
              "308                Ebony Squash   7362096.29"
            ]
          },
          "metadata": {
            "tags": []
          },
          "execution_count": 110
        }
      ]
    },
    {
      "cell_type": "code",
      "metadata": {
        "id": "x-Zf9rkLnrhS"
      },
      "source": [
        "x=dftop5['Line Desc 1']\n",
        "y=dftop5['Revenue']"
      ],
      "execution_count": null,
      "outputs": []
    },
    {
      "cell_type": "code",
      "metadata": {
        "colab": {
          "base_uri": "https://localhost:8080/",
          "height": 276
        },
        "id": "kxFg75RDnCNI",
        "outputId": "aae7c2ef-cbe8-4193-aaf1-19ed41c805c3"
      },
      "source": [
        "plt.bar(x,y)\n",
        "plt.show()"
      ],
      "execution_count": null,
      "outputs": [
        {
          "output_type": "display_data",
          "data": {
            "image/png": "[encoded data removed]",
            "text/plain": [
              "<Figure size 432x288 with 1 Axes>"
            ]
          },
          "metadata": {
            "tags": [],
            "needs_background": "light"
          }
        }
      ]
    },
    {
      "cell_type": "code",
      "metadata": {
        "id": "0CYnb0Zen54r"
      },
      "source": [
        ""
      ],
      "execution_count": null,
      "outputs": []
    }
  ]
}